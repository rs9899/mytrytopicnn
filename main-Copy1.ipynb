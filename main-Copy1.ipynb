{
 "cells": [
  {
   "cell_type": "code",
   "execution_count": 2,
   "metadata": {},
   "outputs": [
    {
     "name": "stderr",
     "output_type": "stream",
     "text": [
      "Using TensorFlow backend.\n"
     ]
    }
   ],
   "source": [
    "import pandas\n",
    "import os\n",
    "import sys\n",
    "import numpy as np\n",
    "from pickle import dump\n",
    "from keras.preprocessing.text import Tokenizer\n",
    "from keras.preprocessing.sequence import pad_sequences\n",
    "from keras.utils import to_categorical\n",
    "from keras.layers import Dense, Input, GlobalMaxPooling1D\n",
    "from keras.layers import Conv1D, MaxPooling1D, Embedding\n",
    "from keras.models import Model\n",
    "from keras.initializers import Constant\n"
   ]
  },
  {
   "cell_type": "code",
   "execution_count": 1,
   "metadata": {},
   "outputs": [],
   "source": [
    "\n",
    "\n",
    "MAX_SEQUENCE_LENGTH = 1000\n",
    "MAX_NUM_WORDS = 20000\n",
    "EMBEDDING_DIM = 100\n",
    "VALIDATION_SPLIT = 0.2\n"
   ]
  },
  {
   "cell_type": "code",
   "execution_count": 3,
   "metadata": {},
   "outputs": [],
   "source": [
    "BASE_DIR = '../'\n",
    "GLOVE_DIR = os.path.join(BASE_DIR, 'glove.6B')\n"
   ]
  },
  {
   "cell_type": "code",
   "execution_count": 4,
   "metadata": {},
   "outputs": [
    {
     "name": "stdout",
     "output_type": "stream",
     "text": [
      "Indexing word vectors.\n",
      "Found 400000 word vectors.\n"
     ]
    }
   ],
   "source": [
    "print('Indexing word vectors.')\n",
    "\n",
    "embeddings_index = {}\n",
    "with open(os.path.join(GLOVE_DIR, 'glove.6B.100d.txt')) as f:\n",
    "    for line in f:\n",
    "        values = line.split()\n",
    "        word = values[0]\n",
    "        coefs = np.asarray(values[1:], dtype='float32')\n",
    "        embeddings_index[word] = coefs\n",
    "\n",
    "print('Found %s word vectors.' % len(embeddings_index))\n"
   ]
  },
  {
   "cell_type": "code",
   "execution_count": 5,
   "metadata": {},
   "outputs": [
    {
     "name": "stdout",
     "output_type": "stream",
     "text": [
      "Processing text dataset\n"
     ]
    }
   ],
   "source": [
    "# second, prepare text samples and their labels\n",
    "print('Processing text dataset')\n",
    "\n",
    "\n",
    "df = pandas.read_csv('processedQuestions.csv')\n",
    "d = df.to_dict()\n",
    "\n",
    "docs = []\n",
    "labels = []\n",
    "for key2 in d['Subject']:\n",
    "\tif pandas.isna(d['Subject'][key2]) or pandas.isna(d['Content'][key2]) or pandas.isna(d['Solution'][key2]) :\n",
    "\t\tpass\n",
    "\telse:\n",
    "\t\tif (d['Subject'][key2].replace('\\\"','').strip(\" \") == \"Physics\"):\n",
    "\t\t\tlabels.append(0)\n",
    "\t\telif (d['Subject'][key2].replace('\\\"','').strip(\" \") == \"Chemistry\"):\n",
    "\t\t\tlabels.append(1)\n",
    "\t\telse :\n",
    "\t\t\tlabels.append(2)\n",
    "\n",
    "\t\t# Need some good string parsing here\n",
    "\t\tstrin = d['Content'][key2] + d['Solution'][key2]\n",
    "\t\tdocs.append( strin )\n"
   ]
  },
  {
   "cell_type": "code",
   "execution_count": 6,
   "metadata": {},
   "outputs": [
    {
     "name": "stdout",
     "output_type": "stream",
     "text": [
      "Found 26537 unique tokens.\n",
      "('Shape of data tensor:', (16975, 1000))\n",
      "('Shape of label tensor:', (16975, 3))\n"
     ]
    }
   ],
   "source": [
    "tokenizer = Tokenizer(num_words=MAX_NUM_WORDS)\n",
    "tokenizer.fit_on_texts(docs)\n",
    "sequences = tokenizer.texts_to_sequences(docs)\n",
    "\n",
    "word_index = tokenizer.word_index\n",
    "print('Found %s unique tokens.' % len(word_index))\n",
    "\n",
    "data = pad_sequences(sequences, maxlen=MAX_SEQUENCE_LENGTH)\n",
    "\n",
    "labels = to_categorical(np.asarray(labels))\n",
    "print('Shape of data tensor:', data.shape)\n",
    "print('Shape of label tensor:', labels.shape)\n"
   ]
  },
  {
   "cell_type": "code",
   "execution_count": 7,
   "metadata": {},
   "outputs": [],
   "source": [
    "indices = np.arange(data.shape[0])\n",
    "np.random.shuffle(indices)\n",
    "data = data[indices]\n",
    "labels = labels[indices]\n",
    "num_validation_samples = int(VALIDATION_SPLIT * data.shape[0])\n",
    "\n",
    "x_train = data[:-num_validation_samples]\n",
    "y_train = labels[:-num_validation_samples]\n",
    "x_val = data[-num_validation_samples:]\n",
    "y_val = labels[-num_validation_samples:]\n"
   ]
  },
  {
   "cell_type": "code",
   "execution_count": 8,
   "metadata": {},
   "outputs": [
    {
     "name": "stdout",
     "output_type": "stream",
     "text": [
      "Preparing embedding matrix.\n"
     ]
    }
   ],
   "source": [
    "print('Preparing embedding matrix.')\n",
    "\n",
    "# prepare embedding matrix\n",
    "num_words = min(MAX_NUM_WORDS, len(word_index)) + 1\n",
    "embedding_matrix = np.zeros((num_words, EMBEDDING_DIM))\n",
    "for word, i in word_index.items():\n",
    "    if i > MAX_NUM_WORDS:\n",
    "        continue\n",
    "    embedding_vector = embeddings_index.get(word)\n",
    "    if embedding_vector is not None:\n",
    "        # words not found in embedding index will be all-zeros.\n",
    "        embedding_matrix[i] = embedding_vector\n",
    "    else:\n",
    "        embedding_matrix[i] = np.random.random_sample((100))"
   ]
  },
  {
   "cell_type": "code",
   "execution_count": 9,
   "metadata": {},
   "outputs": [],
   "source": [
    "embedding_layer = Embedding(num_words,\n",
    "                            EMBEDDING_DIM,\n",
    "                            embeddings_initializer=Constant(embedding_matrix),\n",
    "                            input_length=MAX_SEQUENCE_LENGTH,\n",
    "                            trainable=True)\n"
   ]
  },
  {
   "cell_type": "code",
   "execution_count": 10,
   "metadata": {},
   "outputs": [
    {
     "name": "stdout",
     "output_type": "stream",
     "text": [
      "Training model.\n",
      "_________________________________________________________________\n",
      "Layer (type)                 Output Shape              Param #   \n",
      "=================================================================\n",
      "input_1 (InputLayer)         (None, 1000)              0         \n",
      "_________________________________________________________________\n",
      "embedding_1 (Embedding)      (None, 1000, 100)         2000100   \n",
      "_________________________________________________________________\n",
      "conv1d_1 (Conv1D)            (None, 996, 128)          64128     \n",
      "_________________________________________________________________\n",
      "max_pooling1d_1 (MaxPooling1 (None, 199, 128)          0         \n",
      "_________________________________________________________________\n",
      "conv1d_2 (Conv1D)            (None, 195, 128)          82048     \n",
      "_________________________________________________________________\n",
      "max_pooling1d_2 (MaxPooling1 (None, 39, 128)           0         \n",
      "_________________________________________________________________\n",
      "conv1d_3 (Conv1D)            (None, 35, 128)           82048     \n",
      "_________________________________________________________________\n",
      "global_max_pooling1d_1 (Glob (None, 128)               0         \n",
      "_________________________________________________________________\n",
      "dense_1 (Dense)              (None, 128)               16512     \n",
      "_________________________________________________________________\n",
      "dense_2 (Dense)              (None, 3)                 387       \n",
      "=================================================================\n",
      "Total params: 2,245,223\n",
      "Trainable params: 2,245,223\n",
      "Non-trainable params: 0\n",
      "_________________________________________________________________\n",
      "None\n"
     ]
    }
   ],
   "source": [
    "print('Training model.')\n",
    "\n",
    "# train a 1D convnet with global maxpooling\n",
    "sequence_input = Input(shape=(MAX_SEQUENCE_LENGTH,), dtype='int32')\n",
    "embedded_sequences = embedding_layer(sequence_input)\n",
    "x = Conv1D(128, 5, activation='relu')(embedded_sequences)\n",
    "x = MaxPooling1D(5)(x)\n",
    "x = Conv1D(128, 5, activation='relu')(x)\n",
    "x = MaxPooling1D(5)(x)\n",
    "x = Conv1D(128, 5, activation='relu')(x)\n",
    "x = GlobalMaxPooling1D()(x)\n",
    "x = Dense(128, activation='relu')(x)\n",
    "preds = Dense(3, activation='softmax')(x)\n",
    "\n",
    "model = Model(sequence_input, preds)\n",
    "model.compile(loss='categorical_crossentropy',\n",
    "                optimizer='rmsprop',\n",
    "                metrics=['acc'])\n",
    "\n",
    "print(model.summary())\n"
   ]
  },
  {
   "cell_type": "code",
   "execution_count": 11,
   "metadata": {},
   "outputs": [
    {
     "name": "stdout",
     "output_type": "stream",
     "text": [
      "Train on 13580 samples, validate on 3395 samples\n",
      "Epoch 1/15\n",
      "13580/13580 [==============================] - 251s 18ms/step - loss: 0.6792 - acc: 0.7225 - val_loss: 0.3639 - val_acc: 0.8792\n",
      "Epoch 2/15\n",
      "13580/13580 [==============================] - 253s 19ms/step - loss: 0.2929 - acc: 0.9005 - val_loss: 0.3214 - val_acc: 0.8960\n",
      "Epoch 3/15\n",
      "13580/13580 [==============================] - 253s 19ms/step - loss: 0.1944 - acc: 0.9361 - val_loss: 0.5941 - val_acc: 0.8059\n",
      "Epoch 4/15\n",
      "13580/13580 [==============================] - 250s 18ms/step - loss: 0.1371 - acc: 0.9532 - val_loss: 0.4548 - val_acc: 0.8242\n",
      "Epoch 5/15\n",
      "13580/13580 [==============================] - 146s 11ms/step - loss: 0.1017 - acc: 0.9655 - val_loss: 0.2243 - val_acc: 0.9402\n",
      "Epoch 6/15\n",
      "13580/13580 [==============================] - 136s 10ms/step - loss: 0.0770 - acc: 0.9733 - val_loss: 0.2460 - val_acc: 0.9487\n",
      "Epoch 7/15\n",
      "13580/13580 [==============================] - 161s 12ms/step - loss: 0.0500 - acc: 0.9842 - val_loss: 0.4576 - val_acc: 0.8987\n",
      "Epoch 8/15\n",
      "13580/13580 [==============================] - 138s 10ms/step - loss: 0.0447 - acc: 0.9876 - val_loss: 0.2685 - val_acc: 0.9426\n",
      "Epoch 9/15\n",
      "13580/13580 [==============================] - 132s 10ms/step - loss: 0.0263 - acc: 0.9921 - val_loss: 0.3143 - val_acc: 0.9541\n",
      "Epoch 10/15\n",
      "13580/13580 [==============================] - 135s 10ms/step - loss: 0.0273 - acc: 0.9934 - val_loss: 0.4361 - val_acc: 0.9211\n",
      "Epoch 11/15\n",
      "13580/13580 [==============================] - 137s 10ms/step - loss: 0.0300 - acc: 0.9923 - val_loss: 0.3229 - val_acc: 0.9514\n",
      "Epoch 12/15\n",
      "13580/13580 [==============================] - 139s 10ms/step - loss: 0.0246 - acc: 0.9948 - val_loss: 0.3049 - val_acc: 0.9543\n",
      "Epoch 13/15\n",
      "13580/13580 [==============================] - 141s 10ms/step - loss: 0.0088 - acc: 0.9972 - val_loss: 0.4447 - val_acc: 0.9464\n",
      "Epoch 14/15\n",
      "13580/13580 [==============================] - 133s 10ms/step - loss: 0.0189 - acc: 0.9957 - val_loss: 0.3981 - val_acc: 0.9485\n",
      "Epoch 15/15\n",
      "13580/13580 [==============================] - 132s 10ms/step - loss: 0.0148 - acc: 0.9964 - val_loss: 0.3629 - val_acc: 0.9546\n"
     ]
    },
    {
     "data": {
      "text/plain": [
       "<keras.callbacks.History at 0x7ff66c8d5290>"
      ]
     },
     "execution_count": 11,
     "metadata": {},
     "output_type": "execute_result"
    }
   ],
   "source": [
    "model.fit(x_train, y_train,\n",
    "            batch_size=128,\n",
    "            epochs=15,\n",
    "            validation_data=(x_val, y_val))\n"
   ]
  },
  {
   "cell_type": "code",
   "execution_count": 12,
   "metadata": {},
   "outputs": [],
   "source": [
    "model.save('topic102.h5')\n",
    "dump(tokenizer, open('Topictokenizer2.pkl', 'wb'))\n"
   ]
  },
  {
   "cell_type": "code",
   "execution_count": 18,
   "metadata": {},
   "outputs": [
    {
     "name": "stdout",
     "output_type": "stream",
     "text": [
      "Enter Your query to classify\n",
      "Which of the following reagents may be employed to distinguish the constituents of a mixture of a water-insoluble phenol and benzoic acid?\n",
      "[0. 1. 0.]\n"
     ]
    }
   ],
   "source": [
    "str = raw_input('Enter Your query to classify\\n')\n",
    "\n",
    "docs = [str]\n",
    "sequences = tokenizer.texts_to_sequences(docs)\n",
    "data = pad_sequences(sequences, maxlen=MAX_SEQUENCE_LENGTH)\n",
    "np.set_printoptions(suppress=True)\n",
    "output = model.predict(data,verbose=0)\n",
    "\n",
    "print(output.flatten())\n",
    "\n"
   ]
  },
  {
   "cell_type": "code",
   "execution_count": null,
   "metadata": {},
   "outputs": [],
   "source": [
    "[0.86389637 0.00558657 0.13051705]"
   ]
  },
  {
   "cell_type": "code",
   "execution_count": null,
   "metadata": {},
   "outputs": [],
   "source": []
  },
  {
   "cell_type": "code",
   "execution_count": null,
   "metadata": {},
   "outputs": [],
   "source": []
  }
 ],
 "metadata": {
  "kernelspec": {
   "display_name": "Python 2",
   "language": "python",
   "name": "python2"
  },
  "language_info": {
   "codemirror_mode": {
    "name": "ipython",
    "version": 2
   },
   "file_extension": ".py",
   "mimetype": "text/x-python",
   "name": "python",
   "nbconvert_exporter": "python",
   "pygments_lexer": "ipython2",
   "version": "2.7.15rc1"
  }
 },
 "nbformat": 4,
 "nbformat_minor": 2
}
